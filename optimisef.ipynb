{
 "cells": [
  {
   "cell_type": "code",
   "execution_count": null,
   "id": "419f873b",
   "metadata": {},
   "outputs": [],
   "source": [
    "import numpy as np\n",
    "import matplotlib.pyplot as plt\n"
   ]
  },
  {
   "cell_type": "code",
   "execution_count": null,
   "id": "f08ec2e1",
   "metadata": {},
   "outputs": [],
   "source": [
    "from funcs import *"
   ]
  },
  {
   "cell_type": "code",
   "execution_count": null,
   "id": "af9b700a",
   "metadata": {},
   "outputs": [],
   "source": [
    "### story...\n",
    "\n",
    "\n",
    "# eventually someone will decide whether to choose a product or not.\n",
    "# they have some experimenting time\n",
    "# this doesn't really map onto a firm's pricing decision. stopping in that case is endogenous.\n",
    "# suppose it is not though. "
   ]
  },
  {
   "cell_type": "code",
   "execution_count": null,
   "id": "105a142d",
   "metadata": {},
   "outputs": [],
   "source": [
    "# first, need to evaluate a particular f1\n",
    "\n",
    "#i) estimate the continuation region for the model\n",
    "#ii) compute the ex-ante probability that the risky option is chosen\n",
    "#iii) compute the distribution of stopping times\n",
    "\n",
    "# then can compute expected profit (assume linear cost of f1 or f0)\n",
    "\n",
    "\n",
    "# optimal pricing from an experience good--- need to relate to literature"
   ]
  }
 ],
 "metadata": {
  "language_info": {
   "name": "python"
  }
 },
 "nbformat": 4,
 "nbformat_minor": 5
}
